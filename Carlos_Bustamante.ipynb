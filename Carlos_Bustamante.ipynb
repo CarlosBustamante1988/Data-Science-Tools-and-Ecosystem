{
  "metadata": {
    "kernelspec": {
      "name": "python",
      "display_name": "Python (Pyodide)",
      "language": "python"
    },
    "language_info": {
      "codemirror_mode": {
        "name": "python",
        "version": 3
      },
      "file_extension": ".py",
      "mimetype": "text/x-python",
      "name": "python",
      "nbconvert_exporter": "python",
      "pygments_lexer": "ipython3",
      "version": "3.8"
    }
  },
  "nbformat_minor": 5,
  "nbformat": 4,
  "cells": [
    {
      "id": "add94e90-0551-4586-ab2b-78967ded9f65",
      "cell_type": "markdown",
      "source": "# Data Science Tools and Ecosystem",
      "metadata": {}
    },
    {
      "id": "b7dd7c81-62ad-46b0-99db-2dfa42dcfeb8",
      "cell_type": "markdown",
      "source": "### Introduction\n\nIn this notebook, Data Science Tools and Ecosystem are summarized.",
      "metadata": {}
    },
    {
      "id": "f8087d6c-4152-4e44-ae8e-e3d08ae16bcd",
      "cell_type": "markdown",
      "source": "### Data Science Languages\n\nSome of the popular languages that Data Scientists use are:\n1. Python\n2. R\n3. SQL\n4. Scala\n5. Julia",
      "metadata": {}
    },
    {
      "id": "0a041e90-9572-4a03-bde7-99e845b45fca",
      "cell_type": "markdown",
      "source": "### Data Science Libraries\n\nSome of the commonly used libraries used by Data Scientists include:\n1. Pandas\n2. NumPy\n3. Matplotlib\n4. Scikit-learn\n5. TensorFlow",
      "metadata": {}
    },
    {
      "id": "324d3cf4-6f03-454f-a276-605f46faac0a",
      "cell_type": "markdown",
      "source": "## Data Science Tools\n\n| Tool                | Description                                      |\n|---------------------|--------------------------------------------------|\n| Jupyter Notebooks   | Interactive environment for data analysis       |\n| RStudio             | IDE for R programming                           |\n| VSCode              | Code editor for multiple languages              |\n| Google Colab        | Cloud-based Jupyter tool                        |",
      "metadata": {}
    },
    {
      "id": "3055c94b-c57a-4192-bf2a-3432f634ac3c",
      "cell_type": "markdown",
      "source": "### Arithmetic Expression Examples\n\nBelow are a few examples of evaluating arithmetic expressions in Python.\n\n- Addition: `3 + 3 = 6`\n- Subtraction: `5 - 3 = 2`\n- Multiplication: `8 * 3 = 24`\n- Division: `10 / 2 = 5`",
      "metadata": {}
    },
    {
      "id": "13b6f336-c3d4-40b0-b7db-bdf985ce26fb",
      "cell_type": "code",
      "source": "# This a simple arithmetic expression to multiply then add integers\n(3 * 4) + 5",
      "metadata": {
        "trusted": true
      },
      "outputs": [
        {
          "execution_count": 8,
          "output_type": "execute_result",
          "data": {
            "text/plain": "17"
          },
          "metadata": {}
        }
      ],
      "execution_count": 8
    },
    {
      "id": "31427474-ea24-480f-8ada-29e18113dfd8",
      "cell_type": "code",
      "source": "# This will convert 200 minutes to hours by dividing by 60\n200 / 60",
      "metadata": {
        "trusted": true
      },
      "outputs": [
        {
          "execution_count": 9,
          "output_type": "execute_result",
          "data": {
            "text/plain": "3.3333333333333335"
          },
          "metadata": {}
        }
      ],
      "execution_count": 9
    },
    {
      "id": "40b1cb5e-c18c-4ce2-8a8f-71f31bf523ce",
      "cell_type": "markdown",
      "source": "### Objectives\n\n**Objectives:**\n- List popular languages for Data Science\n- Identify commonly used libraries\n- Demonstrate basic arithmetic operations in Python\n- Create tables using Markdown\n- Share notebooks through GitHub",
      "metadata": {}
    },
    {
      "id": "3e5dcabf-83fa-4c63-867e-e872e3de16e4",
      "cell_type": "markdown",
      "source": "## Author\n\nCarlos Bustamante",
      "metadata": {}
    },
    {
      "id": "df4afe2c-15f2-469a-a73b-97d43866d01b",
      "cell_type": "code",
      "source": "",
      "metadata": {
        "trusted": true
      },
      "outputs": [],
      "execution_count": null
    }
  ]
}